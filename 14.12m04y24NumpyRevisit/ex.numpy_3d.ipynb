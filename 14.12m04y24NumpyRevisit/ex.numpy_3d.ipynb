{
 "cells": [
  {
   "cell_type": "code",
   "execution_count": 3,
   "metadata": {},
   "outputs": [],
   "source": [
    "import numpy as np"
   ]
  },
  {
   "cell_type": "code",
   "execution_count": 4,
   "metadata": {},
   "outputs": [
    {
     "name": "stdout",
     "output_type": "stream",
     "text": [
      "(3, 3, 5)\n"
     ]
    }
   ],
   "source": [
    "arr = np.array([[[1.0e+03, 1.0e+03, 0.0e+00, 1.0e+03, 1.0e+03],\n",
    "                    [4.3e-01, 4.3e-01, 4.3e-01, 0.0e+00, 4.3e-01],\n",
    "                    [0.0e+00, 2.9e-01, 2.9e-01, 2.9e-01, 0.0e+00]],\n",
    "\n",
    "                [[4.3e-01, 4.3e-01, 0.0e+00, 4.3e-01, 4.3e-01],\n",
    "                    [1.0e+03, 1.0e+03, 1.0e+03, 0.0e+00, 1.0e+03],\n",
    "                    [0.0e+00, 3.3e-01, 3.3e-01, 3.3e-01, 0.0e+00]],\n",
    "\n",
    "                [[2.9e-01, 2.9e-01, 0.0e+00, 2.9e-01, 2.9e-01],\n",
    "                    [3.3e-01, 3.3e-01, 3.3e-01, 0.0e+00, 3.3e-01],\n",
    "                    [0.0e+00, 1.0e+03, 1.0e+03, 1.0e+03, 0.0e+00]]])\n",
    "\n",
    "print(arr.shape)"
   ]
  },
  {
   "cell_type": "markdown",
   "metadata": {},
   "source": [
    "Explain the following:\n",
    "1. Sum of `arr` by axis = 0\n",
    "2. Sum of `arr` by axis = 1\n",
    "3. Sum of `arr` by axis = 2"
   ]
  },
  {
   "cell_type": "code",
   "execution_count": 5,
   "metadata": {},
   "outputs": [
    {
     "name": "stdout",
     "output_type": "stream",
     "text": [
      "(3, 5)\n"
     ]
    },
    {
     "data": {
      "text/plain": [
       "array([[1000.72, 1000.72,    0.  , 1000.72, 1000.72],\n",
       "       [1000.76, 1000.76, 1000.76,    0.  , 1000.76],\n",
       "       [   0.  , 1000.62, 1000.62, 1000.62,    0.  ]])"
      ]
     },
     "execution_count": 5,
     "metadata": {},
     "output_type": "execute_result"
    }
   ],
   "source": [
    "print(np.sum(arr, axis=0).shape)\n",
    "np.sum(arr, axis=0)"
   ]
  },
  {
   "cell_type": "code",
   "execution_count": 6,
   "metadata": {},
   "outputs": [
    {
     "name": "stdout",
     "output_type": "stream",
     "text": [
      "(3, 5)\n"
     ]
    },
    {
     "data": {
      "text/plain": [
       "array([[1.00043e+03, 1.00072e+03, 7.20000e-01, 1.00029e+03, 1.00043e+03],\n",
       "       [1.00043e+03, 1.00076e+03, 1.00033e+03, 7.60000e-01, 1.00043e+03],\n",
       "       [6.20000e-01, 1.00062e+03, 1.00033e+03, 1.00029e+03, 6.20000e-01]])"
      ]
     },
     "execution_count": 6,
     "metadata": {},
     "output_type": "execute_result"
    }
   ],
   "source": [
    "print(np.sum(arr, axis=1).shape)\n",
    "np.sum(arr, axis=1)"
   ]
  },
  {
   "cell_type": "code",
   "execution_count": 7,
   "metadata": {},
   "outputs": [
    {
     "name": "stdout",
     "output_type": "stream",
     "text": [
      "(3, 3)\n"
     ]
    },
    {
     "data": {
      "text/plain": [
       "array([[4.00e+03, 1.72e+00, 8.70e-01],\n",
       "       [1.72e+00, 4.00e+03, 9.90e-01],\n",
       "       [1.16e+00, 1.32e+00, 3.00e+03]])"
      ]
     },
     "execution_count": 7,
     "metadata": {},
     "output_type": "execute_result"
    }
   ],
   "source": [
    "print(np.sum(arr, axis=2).shape)\n",
    "np.sum(arr, axis=2)"
   ]
  }
 ],
 "metadata": {
  "kernelspec": {
   "display_name": "min_ds-env",
   "language": "python",
   "name": "python3"
  },
  "language_info": {
   "codemirror_mode": {
    "name": "ipython",
    "version": 3
   },
   "file_extension": ".py",
   "mimetype": "text/x-python",
   "name": "python",
   "nbconvert_exporter": "python",
   "pygments_lexer": "ipython3",
   "version": "3.11.5"
  }
 },
 "nbformat": 4,
 "nbformat_minor": 2
}
